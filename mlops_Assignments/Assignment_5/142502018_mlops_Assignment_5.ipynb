{
 "cells": [
  {
   "cell_type": "code",
   "execution_count": 1,
   "id": "d224a200",
   "metadata": {},
   "outputs": [
    {
     "name": "stdout",
     "output_type": "stream",
     "text": [
      "Requirement already satisfied: datasets in c:\\users\\mahesh nelli\\anaconda3\\lib\\site-packages (2.14.6)\n",
      "Collecting wandb\n",
      "  Downloading wandb-0.22.2-py3-none-win_amd64.whl (19.1 MB)\n",
      "Collecting snorkel\n",
      "  Downloading snorkel-0.9.9-py3-none-any.whl (103 kB)\n",
      "Requirement already satisfied: pandas in c:\\users\\mahesh nelli\\anaconda3\\lib\\site-packages (from datasets) (1.4.2)\n",
      "Requirement already satisfied: numpy>=1.17 in c:\\users\\mahesh nelli\\anaconda3\\lib\\site-packages (from datasets) (1.22.4)\n",
      "Requirement already satisfied: xxhash in c:\\users\\mahesh nelli\\anaconda3\\lib\\site-packages (from datasets) (3.4.1)\n",
      "Requirement already satisfied: aiohttp in c:\\users\\mahesh nelli\\anaconda3\\lib\\site-packages (from datasets) (3.8.1)\n",
      "Requirement already satisfied: requests>=2.19.0 in c:\\users\\mahesh nelli\\anaconda3\\lib\\site-packages (from datasets) (2.32.3)\n",
      "Requirement already satisfied: multiprocess in c:\\users\\mahesh nelli\\anaconda3\\lib\\site-packages (from datasets) (0.70.15)\n",
      "Requirement already satisfied: dill<0.3.8,>=0.3.0 in c:\\users\\mahesh nelli\\anaconda3\\lib\\site-packages (from datasets) (0.3.7)\n",
      "Requirement already satisfied: packaging in c:\\users\\mahesh nelli\\anaconda3\\lib\\site-packages (from datasets) (21.3)\n",
      "Requirement already satisfied: tqdm>=4.62.1 in c:\\users\\mahesh nelli\\anaconda3\\lib\\site-packages (from datasets) (4.64.0)\n",
      "Requirement already satisfied: huggingface-hub<1.0.0,>=0.14.0 in c:\\users\\mahesh nelli\\anaconda3\\lib\\site-packages (from datasets) (0.18.0)\n",
      "Requirement already satisfied: fsspec[http]<=2023.10.0,>=2023.1.0 in c:\\users\\mahesh nelli\\anaconda3\\lib\\site-packages (from datasets) (2023.10.0)\n",
      "Requirement already satisfied: pyyaml>=5.1 in c:\\users\\mahesh nelli\\anaconda3\\lib\\site-packages (from datasets) (6.0)\n",
      "Requirement already satisfied: pyarrow>=8.0.0 in c:\\users\\mahesh nelli\\anaconda3\\lib\\site-packages (from datasets) (14.0.0)\n",
      "Collecting eval-type-backport\n",
      "  Downloading eval_type_backport-0.2.2-py3-none-any.whl (5.8 kB)\n",
      "Requirement already satisfied: protobuf!=4.21.0,!=5.28.0,<7,>=3.19.0 in c:\\users\\mahesh nelli\\anaconda3\\lib\\site-packages (from wandb) (4.25.6)\n",
      "Requirement already satisfied: typing-extensions<5,>=4.8 in c:\\users\\mahesh nelli\\anaconda3\\lib\\site-packages (from wandb) (4.12.2)\n",
      "Requirement already satisfied: pydantic<3 in c:\\users\\mahesh nelli\\anaconda3\\lib\\site-packages (from wandb) (1.10.24)\n",
      "Requirement already satisfied: click>=8.0.1 in c:\\users\\mahesh nelli\\anaconda3\\lib\\site-packages (from wandb) (8.0.4)\n",
      "Requirement already satisfied: gitpython!=3.1.29,>=1.0.0 in c:\\users\\mahesh nelli\\anaconda3\\lib\\site-packages (from wandb) (3.1.45)\n",
      "Collecting sentry-sdk>=2.0.0\n",
      "  Downloading sentry_sdk-2.40.0-py2.py3-none-any.whl (374 kB)\n",
      "Requirement already satisfied: platformdirs in c:\\users\\mahesh nelli\\anaconda3\\lib\\site-packages (from wandb) (4.2.2)\n",
      "Requirement already satisfied: torch>=1.2.0 in c:\\users\\mahesh nelli\\anaconda3\\lib\\site-packages (from snorkel) (2.8.0)\n",
      "Requirement already satisfied: scikit-learn>=0.20.2 in c:\\users\\mahesh nelli\\anaconda3\\lib\\site-packages (from snorkel) (1.0.2)\n",
      "Requirement already satisfied: scipy>=1.2.0 in c:\\users\\mahesh nelli\\anaconda3\\lib\\site-packages (from snorkel) (1.7.3)\n",
      "Requirement already satisfied: munkres>=1.0.6 in c:\\users\\mahesh nelli\\anaconda3\\lib\\site-packages (from snorkel) (1.1.4)\n",
      "Requirement already satisfied: networkx>=2.2 in c:\\users\\mahesh nelli\\anaconda3\\lib\\site-packages (from snorkel) (2.7.1)\n",
      "Requirement already satisfied: tensorboard>=2.9.1 in c:\\users\\mahesh nelli\\anaconda3\\lib\\site-packages (from snorkel) (2.19.0)\n",
      "Requirement already satisfied: colorama in c:\\users\\mahesh nelli\\anaconda3\\lib\\site-packages (from click>=8.0.1->wandb) (0.4.4)\n",
      "Requirement already satisfied: attrs>=17.3.0 in c:\\users\\mahesh nelli\\anaconda3\\lib\\site-packages (from aiohttp->datasets) (23.2.0)\n",
      "Requirement already satisfied: frozenlist>=1.1.1 in c:\\users\\mahesh nelli\\anaconda3\\lib\\site-packages (from aiohttp->datasets) (1.2.0)\n",
      "Requirement already satisfied: charset-normalizer<3.0,>=2.0 in c:\\users\\mahesh nelli\\anaconda3\\lib\\site-packages (from aiohttp->datasets) (2.0.4)\n",
      "Requirement already satisfied: multidict<7.0,>=4.5 in c:\\users\\mahesh nelli\\anaconda3\\lib\\site-packages (from aiohttp->datasets) (5.1.0)\n",
      "Requirement already satisfied: async-timeout<5.0,>=4.0.0a3 in c:\\users\\mahesh nelli\\anaconda3\\lib\\site-packages (from aiohttp->datasets) (4.0.1)\n",
      "Requirement already satisfied: aiosignal>=1.1.2 in c:\\users\\mahesh nelli\\anaconda3\\lib\\site-packages (from aiohttp->datasets) (1.2.0)\n",
      "Requirement already satisfied: yarl<2.0,>=1.0 in c:\\users\\mahesh nelli\\anaconda3\\lib\\site-packages (from aiohttp->datasets) (1.6.3)\n",
      "Requirement already satisfied: gitdb<5,>=4.0.1 in c:\\users\\mahesh nelli\\anaconda3\\lib\\site-packages (from gitpython!=3.1.29,>=1.0.0->wandb) (4.0.12)\n",
      "Requirement already satisfied: smmap<6,>=3.0.1 in c:\\users\\mahesh nelli\\anaconda3\\lib\\site-packages (from gitdb<5,>=4.0.1->gitpython!=3.1.29,>=1.0.0->wandb) (5.0.2)\n",
      "Requirement already satisfied: filelock in c:\\users\\mahesh nelli\\anaconda3\\lib\\site-packages (from huggingface-hub<1.0.0,>=0.14.0->datasets) (3.15.3)\n",
      "Requirement already satisfied: pyparsing!=3.0.5,>=2.0.2 in c:\\users\\mahesh nelli\\anaconda3\\lib\\site-packages (from packaging->datasets) (3.2.1)\n",
      "Requirement already satisfied: python-dateutil>=2.8.1 in c:\\users\\mahesh nelli\\anaconda3\\lib\\site-packages (from pandas->datasets) (2.8.2)\n",
      "Requirement already satisfied: pytz>=2020.1 in c:\\users\\mahesh nelli\\anaconda3\\lib\\site-packages (from pandas->datasets) (2021.3)\n",
      "Requirement already satisfied: six>=1.5 in c:\\users\\mahesh nelli\\anaconda3\\lib\\site-packages (from python-dateutil>=2.8.1->pandas->datasets) (1.16.0)\n",
      "Requirement already satisfied: idna<4,>=2.5 in c:\\users\\mahesh nelli\\anaconda3\\lib\\site-packages (from requests>=2.19.0->datasets) (3.3)\n",
      "Requirement already satisfied: certifi>=2017.4.17 in c:\\users\\mahesh nelli\\anaconda3\\lib\\site-packages (from requests>=2.19.0->datasets) (2021.10.8)\n",
      "Requirement already satisfied: urllib3<3,>=1.21.1 in c:\\users\\mahesh nelli\\anaconda3\\lib\\site-packages (from requests>=2.19.0->datasets) (1.26.9)\n",
      "Requirement already satisfied: joblib>=0.11 in c:\\users\\mahesh nelli\\anaconda3\\lib\\site-packages (from scikit-learn>=0.20.2->snorkel) (1.4.2)\n",
      "Requirement already satisfied: threadpoolctl>=2.0.0 in c:\\users\\mahesh nelli\\anaconda3\\lib\\site-packages (from scikit-learn>=0.20.2->snorkel) (2.2.0)\n",
      "Collecting urllib3<3,>=1.21.1\n",
      "  Using cached urllib3-2.5.0-py3-none-any.whl (129 kB)\n",
      "Requirement already satisfied: absl-py>=0.4 in c:\\users\\mahesh nelli\\anaconda3\\lib\\site-packages (from tensorboard>=2.9.1->snorkel) (2.1.0)\n",
      "Requirement already satisfied: grpcio>=1.48.2 in c:\\users\\mahesh nelli\\anaconda3\\lib\\site-packages (from tensorboard>=2.9.1->snorkel) (1.71.0)\n",
      "Requirement already satisfied: markdown>=2.6.8 in c:\\users\\mahesh nelli\\anaconda3\\lib\\site-packages (from tensorboard>=2.9.1->snorkel) (3.3.4)\n",
      "Requirement already satisfied: tensorboard-data-server<0.8.0,>=0.7.0 in c:\\users\\mahesh nelli\\anaconda3\\lib\\site-packages (from tensorboard>=2.9.1->snorkel) (0.7.2)\n",
      "Requirement already satisfied: setuptools>=41.0.0 in c:\\users\\mahesh nelli\\anaconda3\\lib\\site-packages (from tensorboard>=2.9.1->snorkel) (61.2.0)\n",
      "Requirement already satisfied: werkzeug>=1.0.1 in c:\\users\\mahesh nelli\\anaconda3\\lib\\site-packages (from tensorboard>=2.9.1->snorkel) (2.0.3)\n",
      "Requirement already satisfied: sympy>=1.13.3 in c:\\users\\mahesh nelli\\anaconda3\\lib\\site-packages (from torch>=1.2.0->snorkel) (1.14.0)\n",
      "Requirement already satisfied: jinja2 in c:\\users\\mahesh nelli\\anaconda3\\lib\\site-packages (from torch>=1.2.0->snorkel) (2.11.3)\n",
      "Requirement already satisfied: mpmath<1.4,>=1.1.0 in c:\\users\\mahesh nelli\\anaconda3\\lib\\site-packages (from sympy>=1.13.3->torch>=1.2.0->snorkel) (1.2.1)\n",
      "Requirement already satisfied: MarkupSafe>=0.23 in c:\\users\\mahesh nelli\\anaconda3\\lib\\site-packages (from jinja2->torch>=1.2.0->snorkel) (2.0.1)\n",
      "Installing collected packages: urllib3, sentry-sdk, eval-type-backport, wandb, snorkel\n",
      "  Attempting uninstall: urllib3\n",
      "    Found existing installation: urllib3 1.26.9\n",
      "    Uninstalling urllib3-1.26.9:\n",
      "      Successfully uninstalled urllib3-1.26.9\n",
      "Successfully installed eval-type-backport-0.2.2 sentry-sdk-2.40.0 snorkel-0.9.9 urllib3-2.5.0 wandb-0.22.2\n",
      "Note: you may need to restart the kernel to use updated packages.\n"
     ]
    },
    {
     "name": "stderr",
     "output_type": "stream",
     "text": [
      "WARNING: Ignoring invalid distribution -rotobuf (c:\\users\\mahesh nelli\\anaconda3\\lib\\site-packages)\n",
      "WARNING: Ignoring invalid distribution -rotobuf (c:\\users\\mahesh nelli\\anaconda3\\lib\\site-packages)\n",
      "WARNING: Ignoring invalid distribution -rotobuf (c:\\users\\mahesh nelli\\anaconda3\\lib\\site-packages)\n",
      "    WARNING: Ignoring invalid distribution -rotobuf (c:\\users\\mahesh nelli\\anaconda3\\lib\\site-packages)\n",
      "WARNING: Ignoring invalid distribution -rotobuf (c:\\users\\mahesh nelli\\anaconda3\\lib\\site-packages)\n",
      "WARNING: Ignoring invalid distribution -rotobuf (c:\\users\\mahesh nelli\\anaconda3\\lib\\site-packages)\n",
      "WARNING: Ignoring invalid distribution -rotobuf (c:\\users\\mahesh nelli\\anaconda3\\lib\\site-packages)\n",
      "WARNING: Ignoring invalid distribution -rotobuf (c:\\users\\mahesh nelli\\anaconda3\\lib\\site-packages)\n",
      "WARNING: Ignoring invalid distribution -rotobuf (c:\\users\\mahesh nelli\\anaconda3\\lib\\site-packages)\n",
      "ERROR: pip's dependency resolver does not currently take into account all the packages that are installed. This behaviour is the source of the following dependency conflicts.\n",
      "conda-repo-cli 1.0.4 requires pathlib, which is not installed.\n",
      "anaconda-project 0.10.2 requires ruamel-yaml, which is not installed.\n",
      "google-api-core 1.25.1 requires google-auth<2.0dev,>=1.21.1, but you have google-auth 2.38.0 which is incompatible.\n",
      "botocore 1.24.32 requires urllib3<1.27,>=1.25.4, but you have urllib3 2.5.0 which is incompatible.\n",
      "WARNING: Ignoring invalid distribution -rotobuf (c:\\users\\mahesh nelli\\anaconda3\\lib\\site-packages)\n",
      "WARNING: Ignoring invalid distribution -rotobuf (c:\\users\\mahesh nelli\\anaconda3\\lib\\site-packages)\n",
      "WARNING: Ignoring invalid distribution -rotobuf (c:\\users\\mahesh nelli\\anaconda3\\lib\\site-packages)\n"
     ]
    }
   ],
   "source": [
    "pip install datasets wandb snorkel\n"
   ]
  },
  {
   "cell_type": "code",
   "execution_count": 3,
   "id": "78d10b01",
   "metadata": {},
   "outputs": [
    {
     "data": {
      "text/html": [],
      "text/plain": [
       "<IPython.core.display.HTML object>"
      ]
     },
     "metadata": {},
     "output_type": "display_data"
    },
    {
     "data": {
      "text/html": [
       "Tracking run with wandb version 0.22.2"
      ],
      "text/plain": [
       "<IPython.core.display.HTML object>"
      ]
     },
     "metadata": {},
     "output_type": "display_data"
    },
    {
     "data": {
      "text/html": [
       "Run data is saved locally in <code>C:\\Users\\Mahesh Nelli\\Downloads\\wandb\\run-20251013_133812-ho00gpwi</code>"
      ],
      "text/plain": [
       "<IPython.core.display.HTML object>"
      ]
     },
     "metadata": {},
     "output_type": "display_data"
    },
    {
     "data": {
      "text/html": [
       "Syncing run <strong><a href='https://wandb.ai/uma_mahesh_iitpkd-indian-institute-of-technology/Q1-weak-supervision-ner/runs/ho00gpwi' target=\"_blank\">Dataset_Stats</a></strong> to <a href='https://wandb.ai/uma_mahesh_iitpkd-indian-institute-of-technology/Q1-weak-supervision-ner' target=\"_blank\">Weights & Biases</a> (<a href='https://wandb.me/developer-guide' target=\"_blank\">docs</a>)<br>"
      ],
      "text/plain": [
       "<IPython.core.display.HTML object>"
      ]
     },
     "metadata": {},
     "output_type": "display_data"
    },
    {
     "data": {
      "text/html": [
       " View project at <a href='https://wandb.ai/uma_mahesh_iitpkd-indian-institute-of-technology/Q1-weak-supervision-ner' target=\"_blank\">https://wandb.ai/uma_mahesh_iitpkd-indian-institute-of-technology/Q1-weak-supervision-ner</a>"
      ],
      "text/plain": [
       "<IPython.core.display.HTML object>"
      ]
     },
     "metadata": {},
     "output_type": "display_data"
    },
    {
     "data": {
      "text/html": [
       " View run at <a href='https://wandb.ai/uma_mahesh_iitpkd-indian-institute-of-technology/Q1-weak-supervision-ner/runs/ho00gpwi' target=\"_blank\">https://wandb.ai/uma_mahesh_iitpkd-indian-institute-of-technology/Q1-weak-supervision-ner/runs/ho00gpwi</a>"
      ],
      "text/plain": [
       "<IPython.core.display.HTML object>"
      ]
     },
     "metadata": {},
     "output_type": "display_data"
    },
    {
     "name": "stdout",
     "output_type": "stream",
     "text": [
      "DatasetDict({\n",
      "    train: Dataset({\n",
      "        features: ['id', 'tokens', 'pos_tags', 'chunk_tags', 'ner_tags'],\n",
      "        num_rows: 14041\n",
      "    })\n",
      "    validation: Dataset({\n",
      "        features: ['id', 'tokens', 'pos_tags', 'chunk_tags', 'ner_tags'],\n",
      "        num_rows: 3250\n",
      "    })\n",
      "    test: Dataset({\n",
      "        features: ['id', 'tokens', 'pos_tags', 'chunk_tags', 'ner_tags'],\n",
      "        num_rows: 3453\n",
      "    })\n",
      "})\n",
      "{'id': '0', 'tokens': ['EU', 'rejects', 'German', 'call', 'to', 'boycott', 'British', 'lamb', '.'], 'pos_tags': [22, 42, 16, 21, 35, 37, 16, 21, 7], 'chunk_tags': [11, 21, 11, 12, 21, 22, 11, 12, 0], 'ner_tags': [3, 0, 7, 0, 0, 0, 7, 0, 0]}\n",
      "Entity labels: ['O', 'B-PER', 'I-PER', 'B-ORG', 'I-ORG', 'B-LOC', 'I-LOC', 'B-MISC', 'I-MISC']\n",
      "        Split  Samples\n",
      "0       Train    14041\n",
      "1  Validation     3250\n",
      "2        Test     3453\n",
      "\n",
      "Entity distribution (train): Counter({'B-LOC': 7140, 'B-PER': 6600, 'B-ORG': 6321, 'I-PER': 4528, 'I-ORG': 3704, 'B-MISC': 3438, 'I-LOC': 1157, 'I-MISC': 1155})\n"
     ]
    },
    {
     "data": {
      "text/html": [],
      "text/plain": [
       "<IPython.core.display.HTML object>"
      ]
     },
     "metadata": {},
     "output_type": "display_data"
    },
    {
     "data": {
      "text/html": [
       "<br>    <style><br>        .wandb-row {<br>            display: flex;<br>            flex-direction: row;<br>            flex-wrap: wrap;<br>            justify-content: flex-start;<br>            width: 100%;<br>        }<br>        .wandb-col {<br>            display: flex;<br>            flex-direction: column;<br>            flex-basis: 100%;<br>            flex: 1;<br>            padding: 10px;<br>        }<br>    </style><br><div class=\"wandb-row\"><div class=\"wandb-col\"><h3>Run history:</h3><br/><table class=\"wandb\"><tr><td>test_samples</td><td>▁</td></tr><tr><td>train_samples</td><td>▁</td></tr><tr><td>valid_samples</td><td>▁</td></tr></table><br/></div><div class=\"wandb-col\"><h3>Run summary:</h3><br/><table class=\"wandb\"><tr><td>test_samples</td><td>3453</td></tr><tr><td>train_samples</td><td>14041</td></tr><tr><td>valid_samples</td><td>3250</td></tr></table><br/></div></div>"
      ],
      "text/plain": [
       "<IPython.core.display.HTML object>"
      ]
     },
     "metadata": {},
     "output_type": "display_data"
    },
    {
     "data": {
      "text/html": [
       " View run <strong style=\"color:#cdcd00\">Dataset_Stats</strong> at: <a href='https://wandb.ai/uma_mahesh_iitpkd-indian-institute-of-technology/Q1-weak-supervision-ner/runs/ho00gpwi' target=\"_blank\">https://wandb.ai/uma_mahesh_iitpkd-indian-institute-of-technology/Q1-weak-supervision-ner/runs/ho00gpwi</a><br> View project at: <a href='https://wandb.ai/uma_mahesh_iitpkd-indian-institute-of-technology/Q1-weak-supervision-ner' target=\"_blank\">https://wandb.ai/uma_mahesh_iitpkd-indian-institute-of-technology/Q1-weak-supervision-ner</a><br>Synced 5 W&B file(s), 0 media file(s), 0 artifact file(s) and 0 other file(s)"
      ],
      "text/plain": [
       "<IPython.core.display.HTML object>"
      ]
     },
     "metadata": {},
     "output_type": "display_data"
    },
    {
     "data": {
      "text/html": [
       "Find logs at: <code>.\\wandb\\run-20251013_133812-ho00gpwi\\logs</code>"
      ],
      "text/plain": [
       "<IPython.core.display.HTML object>"
      ]
     },
     "metadata": {},
     "output_type": "display_data"
    }
   ],
   "source": [
    "\n",
    "#  Import libraries\n",
    "from datasets import load_dataset\n",
    "import wandb\n",
    "import pandas as pd\n",
    "from collections import Counter\n",
    "\n",
    "\n",
    "# Initialize W&B project\n",
    "\n",
    "wandb.init(project=\"Q1-weak-supervision-ner\", name=\"Dataset_Stats\")\n",
    "\n",
    "\n",
    "# Load the CoNLL-2003 dataset\n",
    "\n",
    "dataset = load_dataset(\"eriktks/conll2003\")\n",
    "\n",
    "# Print available splits\n",
    "print(dataset)\n",
    "\n",
    "\n",
    "# Check data sample\n",
    "\n",
    "print(dataset[\"train\"][0])\n",
    "\n",
    "\n",
    "# Compute dataset statistics\n",
    "\n",
    "# Total samples in each split\n",
    "train_size = len(dataset[\"train\"])\n",
    "valid_size = len(dataset[\"validation\"])\n",
    "test_size = len(dataset[\"test\"])\n",
    "\n",
    "# Entity label names\n",
    "label_list = dataset[\"train\"].features[\"ner_tags\"].feature.names\n",
    "print(\"Entity labels:\", label_list)\n",
    "\n",
    "# Function to count entity occurrences\n",
    "def count_entities(split):\n",
    "    counts = Counter()\n",
    "    for sample in dataset[split]:\n",
    "        for tag in sample[\"ner_tags\"]:\n",
    "            label = label_list[tag]\n",
    "            if label != \"O\":  # ignore non-entity tokens\n",
    "                counts[label] += 1\n",
    "    return counts\n",
    "\n",
    "train_entities = count_entities(\"train\")\n",
    "valid_entities = count_entities(\"validation\")\n",
    "test_entities = count_entities(\"test\")\n",
    "\n",
    "# Combine into DataFrame for visualization\n",
    "df_stats = pd.DataFrame({\n",
    "    \"Split\": [\"Train\", \"Validation\", \"Test\"],\n",
    "    \"Samples\": [train_size, valid_size, test_size]\n",
    "})\n",
    "print(df_stats)\n",
    "\n",
    "print(\"\\nEntity distribution (train):\", train_entities)\n",
    "\n",
    "\n",
    "# Log metrics to W&B\n",
    "\n",
    "wandb.log({\n",
    "    \"train_samples\": train_size,\n",
    "    \"valid_samples\": valid_size,\n",
    "    \"test_samples\": test_size,\n",
    "    \"entity_distribution_train\": dict(train_entities)\n",
    "})\n",
    "\n",
    "# Add dataset statistics as summary metrics\n",
    "wandb.summary[\"train_samples\"] = train_size\n",
    "wandb.summary[\"valid_samples\"] = valid_size\n",
    "wandb.summary[\"test_samples\"] = test_size\n",
    "wandb.summary[\"entity_distribution_train\"] = dict(train_entities)\n",
    "\n",
    "wandb.finish()\n"
   ]
  },
  {
   "cell_type": "code",
   "execution_count": 24,
   "id": "e89cc52a",
   "metadata": {},
   "outputs": [
    {
     "data": {
      "text/html": [
       "Finishing previous runs because reinit is set to 'default'."
      ],
      "text/plain": [
       "<IPython.core.display.HTML object>"
      ]
     },
     "metadata": {},
     "output_type": "display_data"
    },
    {
     "data": {
      "text/html": [],
      "text/plain": [
       "<IPython.core.display.HTML object>"
      ]
     },
     "metadata": {},
     "output_type": "display_data"
    },
    {
     "data": {
      "text/html": [
       " View run <strong style=\"color:#cdcd00\">Labeling_Functions_Eval</strong> at: <a href='https://wandb.ai/uma_mahesh_iitpkd-indian-institute-of-technology/Q1-weak-supervision-ner/runs/u2l5o4td' target=\"_blank\">https://wandb.ai/uma_mahesh_iitpkd-indian-institute-of-technology/Q1-weak-supervision-ner/runs/u2l5o4td</a><br> View project at: <a href='https://wandb.ai/uma_mahesh_iitpkd-indian-institute-of-technology/Q1-weak-supervision-ner' target=\"_blank\">https://wandb.ai/uma_mahesh_iitpkd-indian-institute-of-technology/Q1-weak-supervision-ner</a><br>Synced 5 W&B file(s), 0 media file(s), 0 artifact file(s) and 0 other file(s)"
      ],
      "text/plain": [
       "<IPython.core.display.HTML object>"
      ]
     },
     "metadata": {},
     "output_type": "display_data"
    },
    {
     "data": {
      "text/html": [
       "Find logs at: <code>.\\wandb\\run-20251013_142416-u2l5o4td\\logs</code>"
      ],
      "text/plain": [
       "<IPython.core.display.HTML object>"
      ]
     },
     "metadata": {},
     "output_type": "display_data"
    },
    {
     "data": {
      "text/html": [],
      "text/plain": [
       "<IPython.core.display.HTML object>"
      ]
     },
     "metadata": {},
     "output_type": "display_data"
    },
    {
     "data": {
      "text/html": [
       "Tracking run with wandb version 0.22.2"
      ],
      "text/plain": [
       "<IPython.core.display.HTML object>"
      ]
     },
     "metadata": {},
     "output_type": "display_data"
    },
    {
     "data": {
      "text/html": [
       "Run data is saved locally in <code>C:\\Users\\Mahesh Nelli\\Downloads\\wandb\\run-20251013_142500-0cz4k566</code>"
      ],
      "text/plain": [
       "<IPython.core.display.HTML object>"
      ]
     },
     "metadata": {},
     "output_type": "display_data"
    },
    {
     "data": {
      "text/html": [
       "Syncing run <strong><a href='https://wandb.ai/uma_mahesh_iitpkd-indian-institute-of-technology/Q1-weak-supervision-ner/runs/0cz4k566' target=\"_blank\">Labeling_Functions_Eval</a></strong> to <a href='https://wandb.ai/uma_mahesh_iitpkd-indian-institute-of-technology/Q1-weak-supervision-ner' target=\"_blank\">Weights & Biases</a> (<a href='https://wandb.me/developer-guide' target=\"_blank\">docs</a>)<br>"
      ],
      "text/plain": [
       "<IPython.core.display.HTML object>"
      ]
     },
     "metadata": {},
     "output_type": "display_data"
    },
    {
     "data": {
      "text/html": [
       " View project at <a href='https://wandb.ai/uma_mahesh_iitpkd-indian-institute-of-technology/Q1-weak-supervision-ner' target=\"_blank\">https://wandb.ai/uma_mahesh_iitpkd-indian-institute-of-technology/Q1-weak-supervision-ner</a>"
      ],
      "text/plain": [
       "<IPython.core.display.HTML object>"
      ]
     },
     "metadata": {},
     "output_type": "display_data"
    },
    {
     "data": {
      "text/html": [
       " View run at <a href='https://wandb.ai/uma_mahesh_iitpkd-indian-institute-of-technology/Q1-weak-supervision-ner/runs/0cz4k566' target=\"_blank\">https://wandb.ai/uma_mahesh_iitpkd-indian-institute-of-technology/Q1-weak-supervision-ner/runs/0cz4k566</a>"
      ],
      "text/plain": [
       "<IPython.core.display.HTML object>"
      ]
     },
     "metadata": {},
     "output_type": "display_data"
    },
    {
     "name": "stderr",
     "output_type": "stream",
     "text": [
      "100%|██████████████████████████████████████████████████████████████████████████| 14041/14041 [00:01<00:00, 7295.16it/s]\n"
     ]
    },
    {
     "name": "stdout",
     "output_type": "stream",
     "text": [
      "               j Polarity  Coverage  Overlaps  Conflicts  Correct  Incorrect  \\\n",
      "lf_year        0      [7]  0.073322   0.00195    0.00195      279      14651   \n",
      "lf_org_suffix  1       []  0.000000   0.00000    0.00000        0          0   \n",
      "lf_loc_suffix  2      [5]  0.027846   0.00195    0.00195      266       5404   \n",
      "\n",
      "               Emp. Acc.  \n",
      "lf_year         0.018687  \n",
      "lf_org_suffix   0.000000  \n",
      "lf_loc_suffix   0.046914  \n"
     ]
    },
    {
     "data": {
      "text/html": [],
      "text/plain": [
       "<IPython.core.display.HTML object>"
      ]
     },
     "metadata": {},
     "output_type": "display_data"
    },
    {
     "data": {
      "text/html": [
       "<br>    <style><br>        .wandb-row {<br>            display: flex;<br>            flex-direction: row;<br>            flex-wrap: wrap;<br>            justify-content: flex-start;<br>            width: 100%;<br>        }<br>        .wandb-col {<br>            display: flex;<br>            flex-direction: column;<br>            flex-basis: 100%;<br>            flex: 1;<br>            padding: 10px;<br>        }<br>    </style><br><div class=\"wandb-row\"><div class=\"wandb-col\"><h3>Run history:</h3><br/><table class=\"wandb\"><tr><td>lf_loc_suffix_accuracy</td><td>▁</td></tr><tr><td>lf_loc_suffix_conflicts</td><td>▁</td></tr><tr><td>lf_loc_suffix_coverage</td><td>▁</td></tr><tr><td>lf_loc_suffix_overlaps</td><td>▁</td></tr><tr><td>lf_org_suffix_accuracy</td><td>▁</td></tr><tr><td>lf_org_suffix_conflicts</td><td>▁</td></tr><tr><td>lf_org_suffix_coverage</td><td>▁</td></tr><tr><td>lf_org_suffix_overlaps</td><td>▁</td></tr><tr><td>lf_year_accuracy</td><td>▁</td></tr><tr><td>lf_year_conflicts</td><td>▁</td></tr><tr><td>+2</td><td>...</td></tr></table><br/></div><div class=\"wandb-col\"><h3>Run summary:</h3><br/><table class=\"wandb\"><tr><td>lf_loc_suffix_accuracy</td><td>0.04691</td></tr><tr><td>lf_loc_suffix_conflicts</td><td>0.00195</td></tr><tr><td>lf_loc_suffix_coverage</td><td>0.02785</td></tr><tr><td>lf_loc_suffix_overlaps</td><td>0.00195</td></tr><tr><td>lf_org_suffix_accuracy</td><td>0</td></tr><tr><td>lf_org_suffix_conflicts</td><td>0</td></tr><tr><td>lf_org_suffix_coverage</td><td>0</td></tr><tr><td>lf_org_suffix_overlaps</td><td>0</td></tr><tr><td>lf_year_accuracy</td><td>0.01869</td></tr><tr><td>lf_year_conflicts</td><td>0.00195</td></tr><tr><td>+2</td><td>...</td></tr></table><br/></div></div>"
      ],
      "text/plain": [
       "<IPython.core.display.HTML object>"
      ]
     },
     "metadata": {},
     "output_type": "display_data"
    },
    {
     "data": {
      "text/html": [
       " View run <strong style=\"color:#cdcd00\">Labeling_Functions_Eval</strong> at: <a href='https://wandb.ai/uma_mahesh_iitpkd-indian-institute-of-technology/Q1-weak-supervision-ner/runs/0cz4k566' target=\"_blank\">https://wandb.ai/uma_mahesh_iitpkd-indian-institute-of-technology/Q1-weak-supervision-ner/runs/0cz4k566</a><br> View project at: <a href='https://wandb.ai/uma_mahesh_iitpkd-indian-institute-of-technology/Q1-weak-supervision-ner' target=\"_blank\">https://wandb.ai/uma_mahesh_iitpkd-indian-institute-of-technology/Q1-weak-supervision-ner</a><br>Synced 5 W&B file(s), 0 media file(s), 0 artifact file(s) and 0 other file(s)"
      ],
      "text/plain": [
       "<IPython.core.display.HTML object>"
      ]
     },
     "metadata": {},
     "output_type": "display_data"
    },
    {
     "data": {
      "text/html": [
       "Find logs at: <code>.\\wandb\\run-20251013_142500-0cz4k566\\logs</code>"
      ],
      "text/plain": [
       "<IPython.core.display.HTML object>"
      ]
     },
     "metadata": {},
     "output_type": "display_data"
    }
   ],
   "source": [
    "\n",
    "# Step 2:Labeling Functions with Snorkel\n",
    "import re\n",
    "import pandas as pd\n",
    "import wandb\n",
    "from snorkel.labeling import labeling_function, PandasLFApplier, LFAnalysis\n",
    "from datasets import load_dataset\n",
    "\n",
    "\n",
    "# Initialize W&B\n",
    "\n",
    "wandb.init(project=\"Q1-weak-supervision-ner\", name=\"Labeling_Functions_Eval\")\n",
    "\n",
    "\n",
    "# Load dataset\n",
    "\n",
    "dataset = load_dataset(\"eriktks/conll2003\")\n",
    "df = pd.DataFrame(dataset['train'])\n",
    "df['text'] = [' '.join(tokens) for tokens in df['tokens']]\n",
    "\n",
    "\n",
    "# Define Labeling Functions\n",
    "\n",
    "\n",
    "# LF 1: Detect years (DATE/MISC)\n",
    "@labeling_function()\n",
    "def lf_year(x):\n",
    "    if re.search(r'\\b(19|20)\\d{2}\\b', x.text):\n",
    "        return 7  # B-MISC label\n",
    "    return -1  # Abstain\n",
    "\n",
    "# LF 2: Detect organizations by common suffixes\n",
    "@labeling_function()\n",
    "def lf_org_suffix(x):\n",
    "    if re.search(r'\\b(Inc\\.|Corp\\.|Ltd\\.|LLC)\\b', x.text):\n",
    "        return 3  \n",
    "    return -1  \n",
    "\n",
    "# LF 3: Detect locations by common suffixes (optional, improves aggregation)\n",
    "@labeling_function()\n",
    "def lf_loc_suffix(x):\n",
    "    if re.search(r\"\\b(city|town|village|river|mountain)\\b\", x.text, re.IGNORECASE):\n",
    "        return 5  \n",
    "    return -1  \n",
    "\n",
    "# List of LFs\n",
    "lfs = [lf_year, lf_org_suffix, lf_loc_suffix]\n",
    "\n",
    "\n",
    "# Apply LFs to dataset\n",
    "\n",
    "applier = PandasLFApplier(lfs=lfs)\n",
    "L_train = applier.apply(df)  # shape: (num_sentences, num_LFs)\n",
    "\n",
    "\n",
    "# Flatten labels for token-level analysis\n",
    "\n",
    "# Flatten L_train and gold labels to token-level\n",
    "L_tokens = []\n",
    "gold_labels = []\n",
    "\n",
    "for i, row in df.iterrows():\n",
    "    for j, token in enumerate(row['tokens']):\n",
    "        # Each LF applied on sentence text → propagate to all tokens\n",
    "        L_tokens.append(L_train[i])\n",
    "        gold_labels.append(row['ner_tags'][j])\n",
    "\n",
    "import numpy as np\n",
    "L_tokens = np.array(L_tokens)\n",
    "gold_labels = np.array(gold_labels)\n",
    "\n",
    "\n",
    "# Analyze LF coverage and accuracy\n",
    "\n",
    "analysis = LFAnalysis(L=L_tokens, lfs=lfs).lf_summary(Y=gold_labels)\n",
    "print(analysis)\n",
    "\n",
    "\n",
    "# Log coverage, overlaps, conflicts, accuracy to W&B\n",
    "\n",
    "for lf_name, row in analysis.iterrows():\n",
    "    wandb.log({\n",
    "        f\"{lf_name}_coverage\": row[\"Coverage\"],\n",
    "        f\"{lf_name}_overlaps\": row[\"Overlaps\"],\n",
    "        f\"{lf_name}_conflicts\": row[\"Conflicts\"],\n",
    "        f\"{lf_name}_accuracy\": row[\"Emp. Acc.\"]\n",
    "    })\n",
    "\n",
    "wandb.finish()\n"
   ]
  },
  {
   "cell_type": "code",
   "execution_count": 25,
   "id": "a5f024e6",
   "metadata": {},
   "outputs": [
    {
     "data": {
      "text/html": [],
      "text/plain": [
       "<IPython.core.display.HTML object>"
      ]
     },
     "metadata": {},
     "output_type": "display_data"
    },
    {
     "data": {
      "text/html": [
       "Tracking run with wandb version 0.22.2"
      ],
      "text/plain": [
       "<IPython.core.display.HTML object>"
      ]
     },
     "metadata": {},
     "output_type": "display_data"
    },
    {
     "data": {
      "text/html": [
       "Run data is saved locally in <code>C:\\Users\\Mahesh Nelli\\Downloads\\wandb\\run-20251013_142634-t2y0u76r</code>"
      ],
      "text/plain": [
       "<IPython.core.display.HTML object>"
      ]
     },
     "metadata": {},
     "output_type": "display_data"
    },
    {
     "data": {
      "text/html": [
       "Syncing run <strong><a href='https://wandb.ai/uma_mahesh_iitpkd-indian-institute-of-technology/Q1-weak-supervision-ner/runs/t2y0u76r' target=\"_blank\">LabelModel_Aggregation</a></strong> to <a href='https://wandb.ai/uma_mahesh_iitpkd-indian-institute-of-technology/Q1-weak-supervision-ner' target=\"_blank\">Weights & Biases</a> (<a href='https://wandb.me/developer-guide' target=\"_blank\">docs</a>)<br>"
      ],
      "text/plain": [
       "<IPython.core.display.HTML object>"
      ]
     },
     "metadata": {},
     "output_type": "display_data"
    },
    {
     "data": {
      "text/html": [
       " View project at <a href='https://wandb.ai/uma_mahesh_iitpkd-indian-institute-of-technology/Q1-weak-supervision-ner' target=\"_blank\">https://wandb.ai/uma_mahesh_iitpkd-indian-institute-of-technology/Q1-weak-supervision-ner</a>"
      ],
      "text/plain": [
       "<IPython.core.display.HTML object>"
      ]
     },
     "metadata": {},
     "output_type": "display_data"
    },
    {
     "data": {
      "text/html": [
       " View run at <a href='https://wandb.ai/uma_mahesh_iitpkd-indian-institute-of-technology/Q1-weak-supervision-ner/runs/t2y0u76r' target=\"_blank\">https://wandb.ai/uma_mahesh_iitpkd-indian-institute-of-technology/Q1-weak-supervision-ner/runs/t2y0u76r</a>"
      ],
      "text/plain": [
       "<IPython.core.display.HTML object>"
      ]
     },
     "metadata": {},
     "output_type": "display_data"
    },
    {
     "name": "stderr",
     "output_type": "stream",
     "text": [
      "INFO:root:Computing O...\n",
      "INFO:root:Estimating \\mu...\n",
      "  0%|                                                                                       | 0/500 [00:00<?, ?epoch/s]INFO:root:[0 epochs]: TRAIN:[loss=0.003]\n",
      " 16%|████████████                                                                 | 78/500 [00:00<00:01, 362.54epoch/s]INFO:root:[100 epochs]: TRAIN:[loss=0.000]\n",
      " 37%|████████████████████████████                                                | 185/500 [00:00<00:00, 341.74epoch/s]INFO:root:[200 epochs]: TRAIN:[loss=0.000]\n",
      " 58%|███████████████████████████████████████████▉                                | 289/500 [00:00<00:00, 328.78epoch/s]INFO:root:[300 epochs]: TRAIN:[loss=0.000]\n",
      " 79%|███████████████████████████████████████████████████████████▉                | 394/500 [00:01<00:00, 341.41epoch/s]INFO:root:[400 epochs]: TRAIN:[loss=0.000]\n",
      "100%|████████████████████████████████████████████████████████████████████████████| 500/500 [00:01<00:00, 332.38epoch/s]\n",
      "INFO:root:Finished Training\n"
     ]
    },
    {
     "name": "stdout",
     "output_type": "stream",
     "text": [
      "Aggregated label coverage: 0.0992\n"
     ]
    },
    {
     "data": {
      "text/html": [],
      "text/plain": [
       "<IPython.core.display.HTML object>"
      ]
     },
     "metadata": {},
     "output_type": "display_data"
    },
    {
     "data": {
      "text/html": [
       "<br>    <style><br>        .wandb-row {<br>            display: flex;<br>            flex-direction: row;<br>            flex-wrap: wrap;<br>            justify-content: flex-start;<br>            width: 100%;<br>        }<br>        .wandb-col {<br>            display: flex;<br>            flex-direction: column;<br>            flex-basis: 100%;<br>            flex: 1;<br>            padding: 10px;<br>        }<br>    </style><br><div class=\"wandb-row\"><div class=\"wandb-col\"><h3>Run history:</h3><br/><table class=\"wandb\"><tr><td>labelmodel_coverage</td><td>▁</td></tr></table><br/></div><div class=\"wandb-col\"><h3>Run summary:</h3><br/><table class=\"wandb\"><tr><td>labelmodel_coverage</td><td>0.09922</td></tr></table><br/></div></div>"
      ],
      "text/plain": [
       "<IPython.core.display.HTML object>"
      ]
     },
     "metadata": {},
     "output_type": "display_data"
    },
    {
     "data": {
      "text/html": [
       " View run <strong style=\"color:#cdcd00\">LabelModel_Aggregation</strong> at: <a href='https://wandb.ai/uma_mahesh_iitpkd-indian-institute-of-technology/Q1-weak-supervision-ner/runs/t2y0u76r' target=\"_blank\">https://wandb.ai/uma_mahesh_iitpkd-indian-institute-of-technology/Q1-weak-supervision-ner/runs/t2y0u76r</a><br> View project at: <a href='https://wandb.ai/uma_mahesh_iitpkd-indian-institute-of-technology/Q1-weak-supervision-ner' target=\"_blank\">https://wandb.ai/uma_mahesh_iitpkd-indian-institute-of-technology/Q1-weak-supervision-ner</a><br>Synced 5 W&B file(s), 0 media file(s), 0 artifact file(s) and 0 other file(s)"
      ],
      "text/plain": [
       "<IPython.core.display.HTML object>"
      ]
     },
     "metadata": {},
     "output_type": "display_data"
    },
    {
     "data": {
      "text/html": [
       "Find logs at: <code>.\\wandb\\run-20251013_142634-t2y0u76r\\logs</code>"
      ],
      "text/plain": [
       "<IPython.core.display.HTML object>"
      ]
     },
     "metadata": {},
     "output_type": "display_data"
    }
   ],
   "source": [
    "\n",
    "# Step 3: Label Aggregation using LabelModel\n",
    "\n",
    "import numpy as np\n",
    "import wandb\n",
    "from snorkel.labeling.model import LabelModel\n",
    "\n",
    "\n",
    "# Initialize W&B\n",
    "\n",
    "wandb.init(project=\"Q1-weak-supervision-ner\", name=\"LabelModel_Aggregation\")\n",
    "\n",
    "\n",
    "# Fit LabelModel on token-level LF matrix\n",
    "\n",
    "label_model = LabelModel(cardinality=8,  # number of NER classes including 'O'\n",
    "                         verbose=True)\n",
    "\n",
    "label_model.fit(\n",
    "    L_train=L_tokens,      # token-level LF matrix\n",
    "    n_epochs=500,\n",
    "    log_freq=100,\n",
    "    seed=42\n",
    ")\n",
    "\n",
    "\n",
    "# Predict aggregated labels\n",
    "\n",
    "y_agg = label_model.predict(L=L_tokens)\n",
    "\n",
    "# Compute aggregated coverage\n",
    "\n",
    "coverage = np.mean(y_agg != -1)\n",
    "print(f\"Aggregated label coverage: {coverage:.4f}\")\n",
    "\n",
    "\n",
    "# Log coverage to W&B\n",
    "\n",
    "wandb.log({\"labelmodel_coverage\": coverage})\n",
    "\n",
    "wandb.finish()\n"
   ]
  },
  {
   "cell_type": "code",
   "execution_count": 26,
   "id": "9dc81b67",
   "metadata": {},
   "outputs": [
    {
     "data": {
      "text/html": [],
      "text/plain": [
       "<IPython.core.display.HTML object>"
      ]
     },
     "metadata": {},
     "output_type": "display_data"
    },
    {
     "data": {
      "text/html": [
       "Tracking run with wandb version 0.22.2"
      ],
      "text/plain": [
       "<IPython.core.display.HTML object>"
      ]
     },
     "metadata": {},
     "output_type": "display_data"
    },
    {
     "data": {
      "text/html": [
       "Run data is saved locally in <code>C:\\Users\\Mahesh Nelli\\Downloads\\wandb\\run-20251013_143544-csf0dfff</code>"
      ],
      "text/plain": [
       "<IPython.core.display.HTML object>"
      ]
     },
     "metadata": {},
     "output_type": "display_data"
    },
    {
     "data": {
      "text/html": [
       "Syncing run <strong><a href='https://wandb.ai/uma_mahesh_iitpkd-indian-institute-of-technology/CIFAR_subset_sequential/runs/csf0dfff' target=\"_blank\">CIFAR100_then_CIFAR10</a></strong> to <a href='https://wandb.ai/uma_mahesh_iitpkd-indian-institute-of-technology/CIFAR_subset_sequential' target=\"_blank\">Weights & Biases</a> (<a href='https://wandb.me/developer-guide' target=\"_blank\">docs</a>)<br>"
      ],
      "text/plain": [
       "<IPython.core.display.HTML object>"
      ]
     },
     "metadata": {},
     "output_type": "display_data"
    },
    {
     "data": {
      "text/html": [
       " View project at <a href='https://wandb.ai/uma_mahesh_iitpkd-indian-institute-of-technology/CIFAR_subset_sequential' target=\"_blank\">https://wandb.ai/uma_mahesh_iitpkd-indian-institute-of-technology/CIFAR_subset_sequential</a>"
      ],
      "text/plain": [
       "<IPython.core.display.HTML object>"
      ]
     },
     "metadata": {},
     "output_type": "display_data"
    },
    {
     "data": {
      "text/html": [
       " View run at <a href='https://wandb.ai/uma_mahesh_iitpkd-indian-institute-of-technology/CIFAR_subset_sequential/runs/csf0dfff' target=\"_blank\">https://wandb.ai/uma_mahesh_iitpkd-indian-institute-of-technology/CIFAR_subset_sequential/runs/csf0dfff</a>"
      ],
      "text/plain": [
       "<IPython.core.display.HTML object>"
      ]
     },
     "metadata": {},
     "output_type": "display_data"
    },
    {
     "name": "stdout",
     "output_type": "stream",
     "text": [
      "CIFAR100 Epoch 1/10 - Loss: 4.3377, Acc: 0.0536\n",
      "CIFAR100 Epoch 2/10 - Loss: 3.6759, Acc: 0.1470\n",
      "CIFAR100 Epoch 3/10 - Loss: 3.2743, Acc: 0.2254\n",
      "CIFAR100 Epoch 4/10 - Loss: 2.9061, Acc: 0.3036\n",
      "CIFAR100 Epoch 5/10 - Loss: 2.5334, Acc: 0.3796\n",
      "CIFAR100 Epoch 6/10 - Loss: 2.1894, Acc: 0.4526\n",
      "CIFAR100 Epoch 7/10 - Loss: 1.8500, Acc: 0.5258\n",
      "CIFAR100 Epoch 8/10 - Loss: 1.5103, Acc: 0.6158\n",
      "CIFAR100 Epoch 9/10 - Loss: 1.2310, Acc: 0.6896\n",
      "CIFAR100 Epoch 10/10 - Loss: 0.9467, Acc: 0.7684\n",
      "CIFAR10 Epoch 1/10 - Loss: 1.7339, Acc: 0.3922\n",
      "CIFAR10 Epoch 2/10 - Loss: 1.3210, Acc: 0.5432\n",
      "CIFAR10 Epoch 3/10 - Loss: 1.1664, Acc: 0.5894\n",
      "CIFAR10 Epoch 4/10 - Loss: 1.0526, Acc: 0.6368\n",
      "CIFAR10 Epoch 5/10 - Loss: 0.9457, Acc: 0.6788\n",
      "CIFAR10 Epoch 6/10 - Loss: 0.9033, Acc: 0.6940\n",
      "CIFAR10 Epoch 7/10 - Loss: 0.8014, Acc: 0.7290\n",
      "CIFAR10 Epoch 8/10 - Loss: 0.7433, Acc: 0.7450\n",
      "CIFAR10 Epoch 9/10 - Loss: 0.6702, Acc: 0.7826\n",
      "CIFAR10 Epoch 10/10 - Loss: 0.6043, Acc: 0.7996\n"
     ]
    },
    {
     "data": {
      "text/html": [],
      "text/plain": [
       "<IPython.core.display.HTML object>"
      ]
     },
     "metadata": {},
     "output_type": "display_data"
    },
    {
     "data": {
      "text/html": [
       "<br>    <style><br>        .wandb-row {<br>            display: flex;<br>            flex-direction: row;<br>            flex-wrap: wrap;<br>            justify-content: flex-start;<br>            width: 100%;<br>        }<br>        .wandb-col {<br>            display: flex;<br>            flex-direction: column;<br>            flex-basis: 100%;<br>            flex: 1;<br>            padding: 10px;<br>        }<br>    </style><br><div class=\"wandb-row\"><div class=\"wandb-col\"><h3>Run history:</h3><br/><table class=\"wandb\"><tr><td>CIFAR100_accuracy</td><td>▁▂▃▃▄▅▆▇▇█</td></tr><tr><td>CIFAR100_loss</td><td>█▇▆▅▄▄▃▂▂▁</td></tr><tr><td>CIFAR10_accuracy</td><td>▁▄▄▅▆▆▇▇██</td></tr><tr><td>CIFAR10_loss</td><td>█▅▄▄▃▃▂▂▁▁</td></tr></table><br/></div><div class=\"wandb-col\"><h3>Run summary:</h3><br/><table class=\"wandb\"><tr><td>CIFAR100_accuracy</td><td>0.7684</td></tr><tr><td>CIFAR100_loss</td><td>0.94665</td></tr><tr><td>CIFAR10_accuracy</td><td>0.7996</td></tr><tr><td>CIFAR10_loss</td><td>0.60434</td></tr></table><br/></div></div>"
      ],
      "text/plain": [
       "<IPython.core.display.HTML object>"
      ]
     },
     "metadata": {},
     "output_type": "display_data"
    },
    {
     "data": {
      "text/html": [
       " View run <strong style=\"color:#cdcd00\">CIFAR100_then_CIFAR10</strong> at: <a href='https://wandb.ai/uma_mahesh_iitpkd-indian-institute-of-technology/CIFAR_subset_sequential/runs/csf0dfff' target=\"_blank\">https://wandb.ai/uma_mahesh_iitpkd-indian-institute-of-technology/CIFAR_subset_sequential/runs/csf0dfff</a><br> View project at: <a href='https://wandb.ai/uma_mahesh_iitpkd-indian-institute-of-technology/CIFAR_subset_sequential' target=\"_blank\">https://wandb.ai/uma_mahesh_iitpkd-indian-institute-of-technology/CIFAR_subset_sequential</a><br>Synced 5 W&B file(s), 0 media file(s), 0 artifact file(s) and 0 other file(s)"
      ],
      "text/plain": [
       "<IPython.core.display.HTML object>"
      ]
     },
     "metadata": {},
     "output_type": "display_data"
    },
    {
     "data": {
      "text/html": [
       "Find logs at: <code>.\\wandb\\run-20251013_143544-csf0dfff\\logs</code>"
      ],
      "text/plain": [
       "<IPython.core.display.HTML object>"
      ]
     },
     "metadata": {},
     "output_type": "display_data"
    },
    {
     "data": {
      "text/html": [],
      "text/plain": [
       "<IPython.core.display.HTML object>"
      ]
     },
     "metadata": {},
     "output_type": "display_data"
    },
    {
     "data": {
      "text/html": [
       "Tracking run with wandb version 0.22.2"
      ],
      "text/plain": [
       "<IPython.core.display.HTML object>"
      ]
     },
     "metadata": {},
     "output_type": "display_data"
    },
    {
     "data": {
      "text/html": [
       "Run data is saved locally in <code>C:\\Users\\Mahesh Nelli\\Downloads\\wandb\\run-20251013_143908-dlj5l07c</code>"
      ],
      "text/plain": [
       "<IPython.core.display.HTML object>"
      ]
     },
     "metadata": {},
     "output_type": "display_data"
    },
    {
     "data": {
      "text/html": [
       "Syncing run <strong><a href='https://wandb.ai/uma_mahesh_iitpkd-indian-institute-of-technology/CIFAR_subset_sequential/runs/dlj5l07c' target=\"_blank\">CIFAR10_then_CIFAR100</a></strong> to <a href='https://wandb.ai/uma_mahesh_iitpkd-indian-institute-of-technology/CIFAR_subset_sequential' target=\"_blank\">Weights & Biases</a> (<a href='https://wandb.me/developer-guide' target=\"_blank\">docs</a>)<br>"
      ],
      "text/plain": [
       "<IPython.core.display.HTML object>"
      ]
     },
     "metadata": {},
     "output_type": "display_data"
    },
    {
     "data": {
      "text/html": [
       " View project at <a href='https://wandb.ai/uma_mahesh_iitpkd-indian-institute-of-technology/CIFAR_subset_sequential' target=\"_blank\">https://wandb.ai/uma_mahesh_iitpkd-indian-institute-of-technology/CIFAR_subset_sequential</a>"
      ],
      "text/plain": [
       "<IPython.core.display.HTML object>"
      ]
     },
     "metadata": {},
     "output_type": "display_data"
    },
    {
     "data": {
      "text/html": [
       " View run at <a href='https://wandb.ai/uma_mahesh_iitpkd-indian-institute-of-technology/CIFAR_subset_sequential/runs/dlj5l07c' target=\"_blank\">https://wandb.ai/uma_mahesh_iitpkd-indian-institute-of-technology/CIFAR_subset_sequential/runs/dlj5l07c</a>"
      ],
      "text/plain": [
       "<IPython.core.display.HTML object>"
      ]
     },
     "metadata": {},
     "output_type": "display_data"
    },
    {
     "name": "stdout",
     "output_type": "stream",
     "text": [
      "CIFAR10 Epoch 1/10 - Loss: 1.9817, Acc: 0.2890\n",
      "CIFAR10 Epoch 2/10 - Loss: 1.6411, Acc: 0.4238\n",
      "CIFAR10 Epoch 3/10 - Loss: 1.4929, Acc: 0.4834\n",
      "CIFAR10 Epoch 4/10 - Loss: 1.3551, Acc: 0.5234\n",
      "CIFAR10 Epoch 5/10 - Loss: 1.2629, Acc: 0.5558\n",
      "CIFAR10 Epoch 6/10 - Loss: 1.1777, Acc: 0.5942\n",
      "CIFAR10 Epoch 7/10 - Loss: 1.1276, Acc: 0.6160\n",
      "CIFAR10 Epoch 8/10 - Loss: 1.0664, Acc: 0.6340\n",
      "CIFAR10 Epoch 9/10 - Loss: 1.0003, Acc: 0.6588\n",
      "CIFAR10 Epoch 10/10 - Loss: 0.9353, Acc: 0.6856\n",
      "CIFAR100 Epoch 1/10 - Loss: 4.0653, Acc: 0.1008\n",
      "CIFAR100 Epoch 2/10 - Loss: 2.8901, Acc: 0.3138\n",
      "CIFAR100 Epoch 3/10 - Loss: 2.1914, Acc: 0.4564\n",
      "CIFAR100 Epoch 4/10 - Loss: 1.6443, Acc: 0.5810\n",
      "CIFAR100 Epoch 5/10 - Loss: 1.1663, Acc: 0.7082\n",
      "CIFAR100 Epoch 6/10 - Loss: 0.7881, Acc: 0.8078\n",
      "CIFAR100 Epoch 7/10 - Loss: 0.5066, Acc: 0.8822\n",
      "CIFAR100 Epoch 8/10 - Loss: 0.3464, Acc: 0.9306\n",
      "CIFAR100 Epoch 9/10 - Loss: 0.1840, Acc: 0.9700\n",
      "CIFAR100 Epoch 10/10 - Loss: 0.1197, Acc: 0.9830\n"
     ]
    },
    {
     "data": {
      "text/html": [],
      "text/plain": [
       "<IPython.core.display.HTML object>"
      ]
     },
     "metadata": {},
     "output_type": "display_data"
    },
    {
     "data": {
      "text/html": [
       "<br>    <style><br>        .wandb-row {<br>            display: flex;<br>            flex-direction: row;<br>            flex-wrap: wrap;<br>            justify-content: flex-start;<br>            width: 100%;<br>        }<br>        .wandb-col {<br>            display: flex;<br>            flex-direction: column;<br>            flex-basis: 100%;<br>            flex: 1;<br>            padding: 10px;<br>        }<br>    </style><br><div class=\"wandb-row\"><div class=\"wandb-col\"><h3>Run history:</h3><br/><table class=\"wandb\"><tr><td>CIFAR100_accuracy</td><td>▁▃▄▅▆▇▇███</td></tr><tr><td>CIFAR100_loss</td><td>█▆▅▄▃▂▂▁▁▁</td></tr><tr><td>CIFAR10_accuracy</td><td>▁▃▄▅▆▆▇▇██</td></tr><tr><td>CIFAR10_loss</td><td>█▆▅▄▃▃▂▂▁▁</td></tr></table><br/></div><div class=\"wandb-col\"><h3>Run summary:</h3><br/><table class=\"wandb\"><tr><td>CIFAR100_accuracy</td><td>0.983</td></tr><tr><td>CIFAR100_loss</td><td>0.11973</td></tr><tr><td>CIFAR10_accuracy</td><td>0.6856</td></tr><tr><td>CIFAR10_loss</td><td>0.93534</td></tr></table><br/></div></div>"
      ],
      "text/plain": [
       "<IPython.core.display.HTML object>"
      ]
     },
     "metadata": {},
     "output_type": "display_data"
    },
    {
     "data": {
      "text/html": [
       " View run <strong style=\"color:#cdcd00\">CIFAR10_then_CIFAR100</strong> at: <a href='https://wandb.ai/uma_mahesh_iitpkd-indian-institute-of-technology/CIFAR_subset_sequential/runs/dlj5l07c' target=\"_blank\">https://wandb.ai/uma_mahesh_iitpkd-indian-institute-of-technology/CIFAR_subset_sequential/runs/dlj5l07c</a><br> View project at: <a href='https://wandb.ai/uma_mahesh_iitpkd-indian-institute-of-technology/CIFAR_subset_sequential' target=\"_blank\">https://wandb.ai/uma_mahesh_iitpkd-indian-institute-of-technology/CIFAR_subset_sequential</a><br>Synced 5 W&B file(s), 0 media file(s), 0 artifact file(s) and 0 other file(s)"
      ],
      "text/plain": [
       "<IPython.core.display.HTML object>"
      ]
     },
     "metadata": {},
     "output_type": "display_data"
    },
    {
     "data": {
      "text/html": [
       "Find logs at: <code>.\\wandb\\run-20251013_143908-dlj5l07c\\logs</code>"
      ],
      "text/plain": [
       "<IPython.core.display.HTML object>"
      ]
     },
     "metadata": {},
     "output_type": "display_data"
    }
   ],
   "source": [
    "import torch\n",
    "import torch.nn as nn\n",
    "import torch.optim as optim\n",
    "import torchvision\n",
    "import torchvision.transforms as transforms\n",
    "import wandb\n",
    "from torch.utils.data import Subset\n",
    "import random\n",
    "\n",
    "device = torch.device(\"cuda\" if torch.cuda.is_available() else \"cpu\")\n",
    "subset_size = 5000  # number of samples for each dataset\n",
    "\n",
    "# Data transforms\n",
    "transform = transforms.Compose([\n",
    "    transforms.ToTensor(),\n",
    "    transforms.Normalize((0.5, 0.5, 0.5), (0.5, 0.5, 0.5))\n",
    "])\n",
    "\n",
    "# CIFAR-10 dataset subset\n",
    "trainset_10 = torchvision.datasets.CIFAR10(root='./data', train=True, download=True, transform=transform)\n",
    "subset_indices_10 = random.sample(range(len(trainset_10)), subset_size)\n",
    "trainloader_10 = torch.utils.data.DataLoader(Subset(trainset_10, subset_indices_10), batch_size=128, shuffle=True)\n",
    "\n",
    "# CIFAR-100 dataset subset\n",
    "trainset_100 = torchvision.datasets.CIFAR100(root='./data', train=True, download=True, transform=transform)\n",
    "subset_indices_100 = random.sample(range(len(trainset_100)), subset_size)\n",
    "trainloader_100 = torch.utils.data.DataLoader(Subset(trainset_100, subset_indices_100), batch_size=128, shuffle=True)\n",
    "\n",
    "# Define a simple CNN model\n",
    "class SimpleCNN(nn.Module):\n",
    "    def __init__(self, num_classes):\n",
    "        super(SimpleCNN, self).__init__()\n",
    "        self.features = nn.Sequential(\n",
    "            nn.Conv2d(3, 32, 3, padding=1), nn.ReLU(), nn.MaxPool2d(2),\n",
    "            nn.Conv2d(32, 64, 3, padding=1), nn.ReLU(), nn.MaxPool2d(2)\n",
    "        )\n",
    "        self.classifier = nn.Linear(64*8*8, num_classes)\n",
    "    \n",
    "    def forward(self, x):\n",
    "        x = self.features(x)\n",
    "        x = x.view(x.size(0), -1)\n",
    "        return self.classifier(x)\n",
    "\n",
    "# Training function\n",
    "def train_model(model, trainloader, epochs=10, dataset_name=\"Dataset\"):\n",
    "    criterion = nn.CrossEntropyLoss()\n",
    "    optimizer = optim.Adam(model.parameters(), lr=0.001)\n",
    "\n",
    "    model.train()\n",
    "    for epoch in range(epochs):\n",
    "        running_loss, correct, total = 0.0, 0, 0\n",
    "        for images, labels in trainloader:\n",
    "            images, labels = images.to(device), labels.to(device)\n",
    "            optimizer.zero_grad()\n",
    "            outputs = model(images)\n",
    "            loss = criterion(outputs, labels)\n",
    "            loss.backward()\n",
    "            optimizer.step()\n",
    "            \n",
    "            running_loss += loss.item() * images.size(0)\n",
    "            _, predicted = outputs.max(1)\n",
    "            total += labels.size(0)\n",
    "            correct += predicted.eq(labels).sum().item()\n",
    "        \n",
    "        epoch_loss = running_loss / total\n",
    "        epoch_acc = correct / total\n",
    "        print(f\"{dataset_name} Epoch {epoch+1}/{epochs} - Loss: {epoch_loss:.4f}, Acc: {epoch_acc:.4f}\")\n",
    "        wandb.log({f\"{dataset_name}_loss\": epoch_loss, f\"{dataset_name}_accuracy\": epoch_acc})\n",
    "\n",
    "# Experiment A: CIFAR-100 then CIFAR-10\n",
    "wandb.init(project=\"CIFAR_subset_sequential\", name=\"CIFAR100_then_CIFAR10\")\n",
    "model = SimpleCNN(num_classes=100).to(device)\n",
    "train_model(model, trainloader_100, epochs=10, dataset_name=\"CIFAR100\")\n",
    "model.classifier = nn.Linear(64*8*8, 10).to(device)\n",
    "train_model(model, trainloader_10, epochs=10, dataset_name=\"CIFAR10\")\n",
    "wandb.finish()\n",
    "\n",
    "# Experiment B: CIFAR-10 then CIFAR-100\n",
    "wandb.init(project=\"CIFAR_subset_sequential\", name=\"CIFAR10_then_CIFAR100\")\n",
    "model = SimpleCNN(num_classes=10).to(device)\n",
    "train_model(model, trainloader_10, epochs=10, dataset_name=\"CIFAR10\")\n",
    "model.classifier = nn.Linear(64*8*8, 100).to(device)\n",
    "train_model(model, trainloader_100, epochs=10, dataset_name=\"CIFAR100\")\n",
    "wandb.finish()\n"
   ]
  },
  {
   "cell_type": "code",
   "execution_count": null,
   "id": "4436610b",
   "metadata": {},
   "outputs": [],
   "source": []
  }
 ],
 "metadata": {
  "kernelspec": {
   "display_name": "Python 3 (ipykernel)",
   "language": "python",
   "name": "python3"
  },
  "language_info": {
   "codemirror_mode": {
    "name": "ipython",
    "version": 3
   },
   "file_extension": ".py",
   "mimetype": "text/x-python",
   "name": "python",
   "nbconvert_exporter": "python",
   "pygments_lexer": "ipython3",
   "version": "3.9.12"
  }
 },
 "nbformat": 4,
 "nbformat_minor": 5
}
